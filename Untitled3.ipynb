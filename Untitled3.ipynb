{
  "nbformat": 4,
  "nbformat_minor": 0,
  "metadata": {
    "colab": {
      "provenance": [],
      "gpuType": "T4",
      "authorship_tag": "ABX9TyMG1eXmYLtyDSfG5nu7OUHO",
      "include_colab_link": true
    },
    "kernelspec": {
      "name": "python3",
      "display_name": "Python 3"
    },
    "language_info": {
      "name": "python"
    },
    "accelerator": "GPU"
  },
  "cells": [
    {
      "cell_type": "markdown",
      "metadata": {
        "id": "view-in-github",
        "colab_type": "text"
      },
      "source": [
        "<a href=\"https://colab.research.google.com/github/Cherie1999111/DP/blob/main/Untitled3.ipynb\" target=\"_parent\"><img src=\"https://colab.research.google.com/assets/colab-badge.svg\" alt=\"Open In Colab\"/></a>"
      ]
    },
    {
      "cell_type": "code",
      "execution_count": 2,
      "metadata": {
        "colab": {
          "base_uri": "https://localhost:8080/"
        },
        "id": "hv6FTyRdXnOX",
        "outputId": "acb68ab5-c547-4751-c5ee-74e524351933"
      },
      "outputs": [
        {
          "output_type": "stream",
          "name": "stdout",
          "text": [
            "Cloning into 'main'...\n",
            "fatal: repository 'https://github.com/johannakarras/DreamPose/tree/main/' not found\n"
          ]
        }
      ],
      "source": [
        "!git clone https://github.com/johannakarras/DreamPose/tree/main"
      ]
    },
    {
      "cell_type": "code",
      "source": [
        "!git clone https://github.com/johannakarras/DreamPose.git\n"
      ],
      "metadata": {
        "colab": {
          "base_uri": "https://localhost:8080/"
        },
        "id": "XQ6psJ4GYJP9",
        "outputId": "b550d654-68f8-4609-d0c2-9eba3cbe3a4b"
      },
      "execution_count": 3,
      "outputs": [
        {
          "output_type": "stream",
          "name": "stdout",
          "text": [
            "Cloning into 'DreamPose'...\n",
            "remote: Enumerating objects: 61, done.\u001b[K\n",
            "remote: Counting objects: 100% (48/48), done.\u001b[K\n",
            "remote: Compressing objects: 100% (36/36), done.\u001b[K\n",
            "remote: Total 61 (delta 12), reused 42 (delta 11), pack-reused 13 (from 1)\u001b[K\n",
            "Receiving objects: 100% (61/61), 3.44 MiB | 6.95 MiB/s, done.\n",
            "Resolving deltas: 100% (13/13), done.\n"
          ]
        }
      ]
    },
    {
      "cell_type": "code",
      "source": [
        "%cd DreamPose\n"
      ],
      "metadata": {
        "colab": {
          "base_uri": "https://localhost:8080/"
        },
        "id": "__e3jyEEYfSV",
        "outputId": "197e7e5e-0c05-4879-ab1a-3d3a05cfd449"
      },
      "execution_count": 4,
      "outputs": [
        {
          "output_type": "stream",
          "name": "stdout",
          "text": [
            "/content/DreamPose\n"
          ]
        }
      ]
    },
    {
      "cell_type": "code",
      "source": [
        "!python test.py\n"
      ],
      "metadata": {
        "colab": {
          "base_uri": "https://localhost:8080/"
        },
        "id": "ATA5OcE6YioM",
        "outputId": "1e008f35-d81c-4955-e31e-c3c206431855"
      },
      "execution_count": 5,
      "outputs": [
        {
          "output_type": "stream",
          "name": "stdout",
          "text": [
            "Traceback (most recent call last):\n",
            "  File \"/content/DreamPose/test.py\", line 3, in <module>\n",
            "    from diffusers import UNet2DConditionModel, DDIMScheduler\n",
            "ModuleNotFoundError: No module named 'diffusers'\n"
          ]
        }
      ]
    },
    {
      "cell_type": "code",
      "source": [
        "!pip install diffusers"
      ],
      "metadata": {
        "colab": {
          "base_uri": "https://localhost:8080/"
        },
        "id": "3wBg5TDdYwXe",
        "outputId": "1c8358d4-2bbb-46fa-e53b-2339b4e38cd8"
      },
      "execution_count": 6,
      "outputs": [
        {
          "output_type": "stream",
          "name": "stdout",
          "text": [
            "Collecting diffusers\n",
            "  Downloading diffusers-0.30.1-py3-none-any.whl.metadata (18 kB)\n",
            "Requirement already satisfied: importlib-metadata in /usr/local/lib/python3.10/dist-packages (from diffusers) (8.4.0)\n",
            "Requirement already satisfied: filelock in /usr/local/lib/python3.10/dist-packages (from diffusers) (3.15.4)\n",
            "Requirement already satisfied: huggingface-hub>=0.23.2 in /usr/local/lib/python3.10/dist-packages (from diffusers) (0.23.5)\n",
            "Requirement already satisfied: numpy in /usr/local/lib/python3.10/dist-packages (from diffusers) (1.26.4)\n",
            "Requirement already satisfied: regex!=2019.12.17 in /usr/local/lib/python3.10/dist-packages (from diffusers) (2024.5.15)\n",
            "Requirement already satisfied: requests in /usr/local/lib/python3.10/dist-packages (from diffusers) (2.32.3)\n",
            "Requirement already satisfied: safetensors>=0.3.1 in /usr/local/lib/python3.10/dist-packages (from diffusers) (0.4.4)\n",
            "Requirement already satisfied: Pillow in /usr/local/lib/python3.10/dist-packages (from diffusers) (9.4.0)\n",
            "Requirement already satisfied: fsspec>=2023.5.0 in /usr/local/lib/python3.10/dist-packages (from huggingface-hub>=0.23.2->diffusers) (2024.6.1)\n",
            "Requirement already satisfied: packaging>=20.9 in /usr/local/lib/python3.10/dist-packages (from huggingface-hub>=0.23.2->diffusers) (24.1)\n",
            "Requirement already satisfied: pyyaml>=5.1 in /usr/local/lib/python3.10/dist-packages (from huggingface-hub>=0.23.2->diffusers) (6.0.2)\n",
            "Requirement already satisfied: tqdm>=4.42.1 in /usr/local/lib/python3.10/dist-packages (from huggingface-hub>=0.23.2->diffusers) (4.66.5)\n",
            "Requirement already satisfied: typing-extensions>=3.7.4.3 in /usr/local/lib/python3.10/dist-packages (from huggingface-hub>=0.23.2->diffusers) (4.12.2)\n",
            "Requirement already satisfied: zipp>=0.5 in /usr/local/lib/python3.10/dist-packages (from importlib-metadata->diffusers) (3.20.1)\n",
            "Requirement already satisfied: charset-normalizer<4,>=2 in /usr/local/lib/python3.10/dist-packages (from requests->diffusers) (3.3.2)\n",
            "Requirement already satisfied: idna<4,>=2.5 in /usr/local/lib/python3.10/dist-packages (from requests->diffusers) (3.8)\n",
            "Requirement already satisfied: urllib3<3,>=1.21.1 in /usr/local/lib/python3.10/dist-packages (from requests->diffusers) (2.0.7)\n",
            "Requirement already satisfied: certifi>=2017.4.17 in /usr/local/lib/python3.10/dist-packages (from requests->diffusers) (2024.7.4)\n",
            "Downloading diffusers-0.30.1-py3-none-any.whl (2.6 MB)\n",
            "\u001b[2K   \u001b[90m━━━━━━━━━━━━━━━━━━━━━━━━━━━━━━━━━━━━━━━━\u001b[0m \u001b[32m2.6/2.6 MB\u001b[0m \u001b[31m38.0 MB/s\u001b[0m eta \u001b[36m0:00:00\u001b[0m\n",
            "\u001b[?25hInstalling collected packages: diffusers\n",
            "Successfully installed diffusers-0.30.1\n"
          ]
        }
      ]
    },
    {
      "cell_type": "code",
      "source": [
        "!python test.py\n"
      ],
      "metadata": {
        "colab": {
          "base_uri": "https://localhost:8080/"
        },
        "id": "SP2pqzjOY2Ny",
        "outputId": "3274498f-a2b1-489b-f74a-9b12ca83feef"
      },
      "execution_count": 7,
      "outputs": [
        {
          "output_type": "stream",
          "name": "stdout",
          "text": [
            "The cache for model files in Transformers v4.22.0 has been updated. Migrating your old cache. This is a one-time only operation. You can interrupt this and resume the migration later on by calling `transformers.utils.move_cache()`.\n",
            "\r0it [00:00, ?it/s]\r0it [00:00, ?it/s]\n",
            "2024-08-28 19:42:13.481277: E external/local_xla/xla/stream_executor/cuda/cuda_fft.cc:485] Unable to register cuFFT factory: Attempting to register factory for plugin cuFFT when one has already been registered\n",
            "2024-08-28 19:42:13.501521: E external/local_xla/xla/stream_executor/cuda/cuda_dnn.cc:8454] Unable to register cuDNN factory: Attempting to register factory for plugin cuDNN when one has already been registered\n",
            "2024-08-28 19:42:13.507310: E external/local_xla/xla/stream_executor/cuda/cuda_blas.cc:1452] Unable to register cuBLAS factory: Attempting to register factory for plugin cuBLAS when one has already been registered\n",
            "2024-08-28 19:42:13.521714: I tensorflow/core/platform/cpu_feature_guard.cc:210] This TensorFlow binary is optimized to use available CPU instructions in performance-critical operations.\n",
            "To enable the following instructions: AVX2 AVX512F FMA, in other operations, rebuild TensorFlow with the appropriate compiler flags.\n",
            "2024-08-28 19:42:14.715054: W tensorflow/compiler/tf2tensorrt/utils/py_utils.cc:38] TF-TRT Warning: Could not find TensorRT\n",
            "usage: test.py [-h] [--folder FOLDER] [--pose_folder POSE_FOLDER] [--test_poses TEST_POSES]\n",
            "               --epoch EPOCH [--key_frame_path KEY_FRAME_PATH] [--pose_path POSE_PATH]\n",
            "               [--strength STRENGTH] [--s1 S1] [--s2 S2] [--iters ITERS] [--sampler SAMPLER]\n",
            "               [--n_steps N_STEPS] [--output_dir OUTPUT_DIR] [--j J] [--min_j MIN_J]\n",
            "               [--max_j MAX_J] [--custom_vae CUSTOM_VAE] [--batch_size BATCH_SIZE]\n",
            "test.py: error: the following arguments are required: --epoch\n"
          ]
        }
      ]
    },
    {
      "cell_type": "code",
      "source": [
        "!python test.py --help\n"
      ],
      "metadata": {
        "colab": {
          "base_uri": "https://localhost:8080/"
        },
        "id": "RGoYYhEfZEli",
        "outputId": "799f7360-2def-45f5-9f6a-0fb3c55e906e"
      },
      "execution_count": 8,
      "outputs": [
        {
          "output_type": "stream",
          "name": "stdout",
          "text": [
            "2024-08-28 19:42:21.502770: E external/local_xla/xla/stream_executor/cuda/cuda_fft.cc:485] Unable to register cuFFT factory: Attempting to register factory for plugin cuFFT when one has already been registered\n",
            "2024-08-28 19:42:21.522673: E external/local_xla/xla/stream_executor/cuda/cuda_dnn.cc:8454] Unable to register cuDNN factory: Attempting to register factory for plugin cuDNN when one has already been registered\n",
            "2024-08-28 19:42:21.528530: E external/local_xla/xla/stream_executor/cuda/cuda_blas.cc:1452] Unable to register cuBLAS factory: Attempting to register factory for plugin cuBLAS when one has already been registered\n",
            "2024-08-28 19:42:21.548100: I tensorflow/core/platform/cpu_feature_guard.cc:210] This TensorFlow binary is optimized to use available CPU instructions in performance-critical operations.\n",
            "To enable the following instructions: AVX2 AVX512F FMA, in other operations, rebuild TensorFlow with the appropriate compiler flags.\n",
            "2024-08-28 19:42:22.731987: W tensorflow/compiler/tf2tensorrt/utils/py_utils.cc:38] TF-TRT Warning: Could not find TensorRT\n",
            "usage: test.py [-h] [--folder FOLDER] [--pose_folder POSE_FOLDER] [--test_poses TEST_POSES]\n",
            "               --epoch EPOCH [--key_frame_path KEY_FRAME_PATH] [--pose_path POSE_PATH]\n",
            "               [--strength STRENGTH] [--s1 S1] [--s2 S2] [--iters ITERS] [--sampler SAMPLER]\n",
            "               [--n_steps N_STEPS] [--output_dir OUTPUT_DIR] [--j J] [--min_j MIN_J]\n",
            "               [--max_j MAX_J] [--custom_vae CUSTOM_VAE] [--batch_size BATCH_SIZE]\n",
            "\n",
            "options:\n",
            "  -h, --help            show this help message and exit\n",
            "  --folder FOLDER       Path to custom pretrained checkpoints folder.\n",
            "  --pose_folder POSE_FOLDER\n",
            "                        Path to test frames, poses, and joints.\n",
            "  --test_poses TEST_POSES\n",
            "                        Path to test frames, poses, and joints.\n",
            "  --epoch EPOCH         Pretrained custom model checkpoint epoch number.\n",
            "  --key_frame_path KEY_FRAME_PATH\n",
            "                        Path to key frame.\n",
            "  --pose_path POSE_PATH\n",
            "                        Pretrained model checkpoint step number.\n",
            "  --strength STRENGTH   How much noise to add to input image.\n",
            "  --s1 S1               Classifier free guidance of input image.\n",
            "  --s2 S2               Classifier free guidance of input pose.\n",
            "  --iters ITERS         # times to do stochastic sampling for all frames.\n",
            "  --sampler SAMPLER     PNDM or DDIM.\n",
            "  --n_steps N_STEPS     Number of denoising steps.\n",
            "  --output_dir OUTPUT_DIR\n",
            "                        Where to save results.\n",
            "  --j J                 Specific frame number.\n",
            "  --min_j MIN_J         Lowest predicted frame id.\n",
            "  --max_j MAX_J         Max predicted frame id.\n",
            "  --custom_vae CUSTOM_VAE\n",
            "                        Path use custom VAE checkpoint.\n",
            "  --batch_size BATCH_SIZE\n",
            "                        # frames to infer at once.\n"
          ]
        }
      ]
    },
    {
      "cell_type": "code",
      "source": [
        "# 读取文件内容\n",
        "file_path = '/content/DreamPose/test.py'\n",
        "with open(file_path, 'r') as file:\n",
        "    lines = file.readlines()\n",
        "\n",
        "# 修改指定行的内容\n",
        "for i, line in enumerate(lines):\n",
        "    if 'parser.add_argument(\"--folder\", default=\\'dreampose-1\\'' in line:\n",
        "        lines[i] = '    parser.add_argument(\"--folder\", default=\\'/content/DreamPose/datasets\\', help=\"Path to custom pretrained checkpoints folder.\")\\n'\n",
        "\n",
        "# 写回修改后的内容\n",
        "with open(file_path, 'w') as file:\n",
        "    file.writelines(lines)\n",
        "\n",
        "print(\"修改已完成。\")\n"
      ],
      "metadata": {
        "colab": {
          "base_uri": "https://localhost:8080/"
        },
        "id": "eYSCp9tGV19x",
        "outputId": "31a4359f-73cf-4f88-f640-4c29deba03fe"
      },
      "execution_count": 13,
      "outputs": [
        {
          "output_type": "stream",
          "name": "stdout",
          "text": [
            "修改已完成。\n"
          ]
        }
      ]
    },
    {
      "cell_type": "code",
      "source": [
        "!python test.py"
      ],
      "metadata": {
        "colab": {
          "base_uri": "https://localhost:8080/"
        },
        "id": "XVsFtb28V5UQ",
        "outputId": "50009841-21dd-49c2-ec11-ec3f2672f60f"
      },
      "execution_count": 10,
      "outputs": [
        {
          "output_type": "stream",
          "name": "stdout",
          "text": [
            "2024-08-28 19:43:17.739272: E external/local_xla/xla/stream_executor/cuda/cuda_fft.cc:485] Unable to register cuFFT factory: Attempting to register factory for plugin cuFFT when one has already been registered\n",
            "2024-08-28 19:43:17.758701: E external/local_xla/xla/stream_executor/cuda/cuda_dnn.cc:8454] Unable to register cuDNN factory: Attempting to register factory for plugin cuDNN when one has already been registered\n",
            "2024-08-28 19:43:17.764510: E external/local_xla/xla/stream_executor/cuda/cuda_blas.cc:1452] Unable to register cuBLAS factory: Attempting to register factory for plugin cuBLAS when one has already been registered\n",
            "2024-08-28 19:43:17.778255: I tensorflow/core/platform/cpu_feature_guard.cc:210] This TensorFlow binary is optimized to use available CPU instructions in performance-critical operations.\n",
            "To enable the following instructions: AVX2 AVX512F FMA, in other operations, rebuild TensorFlow with the appropriate compiler flags.\n",
            "2024-08-28 19:43:18.951688: W tensorflow/compiler/tf2tensorrt/utils/py_utils.cc:38] TF-TRT Warning: Could not find TensorRT\n",
            "usage: test.py [-h] [--folder FOLDER] [--pose_folder POSE_FOLDER] [--test_poses TEST_POSES]\n",
            "               --epoch EPOCH [--key_frame_path KEY_FRAME_PATH] [--pose_path POSE_PATH]\n",
            "               [--strength STRENGTH] [--s1 S1] [--s2 S2] [--iters ITERS] [--sampler SAMPLER]\n",
            "               [--n_steps N_STEPS] [--output_dir OUTPUT_DIR] [--j J] [--min_j MIN_J]\n",
            "               [--max_j MAX_J] [--custom_vae CUSTOM_VAE] [--batch_size BATCH_SIZE]\n",
            "test.py: error: the following arguments are required: --epoch\n"
          ]
        }
      ]
    },
    {
      "cell_type": "code",
      "source": [
        "!ls /content/DreamPose/datasets\n"
      ],
      "metadata": {
        "colab": {
          "base_uri": "https://localhost:8080/"
        },
        "id": "cj2uzhU3Wpw2",
        "outputId": "a3c5dc93-e94d-4983-ca32-c272a706eff8"
      },
      "execution_count": 11,
      "outputs": [
        {
          "output_type": "stream",
          "name": "stdout",
          "text": [
            "dreampose_dataset.py  train_vae_dataset.py  ubc_dataset.py\n"
          ]
        }
      ]
    },
    {
      "cell_type": "code",
      "source": [
        "!ls /content/DreamPose/demo"
      ],
      "metadata": {
        "colab": {
          "base_uri": "https://localhost:8080/"
        },
        "id": "JQ4p0DUZcqwx",
        "outputId": "60afcf7d-a7ba-46f0-9204-fd28d9b1a10b"
      },
      "execution_count": 12,
      "outputs": [
        {
          "output_type": "stream",
          "name": "stdout",
          "text": [
            "custom-chkpts  sample\n"
          ]
        }
      ]
    },
    {
      "cell_type": "code",
      "source": [
        "!gdown --id 1OCxRYFRVaSX8a3wxppLLMRUWpoXU4RE7"
      ],
      "metadata": {
        "colab": {
          "base_uri": "https://localhost:8080/"
        },
        "id": "jBoCcxMJdJyo",
        "outputId": "dc7d2cfd-6d35-453e-c6a1-45bded336ce3"
      },
      "execution_count": 13,
      "outputs": [
        {
          "output_type": "stream",
          "name": "stdout",
          "text": [
            "/usr/local/lib/python3.10/dist-packages/gdown/__main__.py:132: FutureWarning: Option `--id` was deprecated in version 4.3.1 and will be removed in 5.0. You don't need to pass it anymore to use a file ID.\n",
            "  warnings.warn(\n",
            "Downloading...\n",
            "From (original): https://drive.google.com/uc?id=1OCxRYFRVaSX8a3wxppLLMRUWpoXU4RE7\n",
            "From (redirected): https://drive.google.com/uc?id=1OCxRYFRVaSX8a3wxppLLMRUWpoXU4RE7&confirm=t&uuid=11919fbd-e3f3-4e66-8c17-df173fbcf4e3\n",
            "To: /content/DreamPose/unet_epoch_499.pth\n",
            "100% 3.44G/3.44G [01:06<00:00, 51.4MB/s]\n"
          ]
        }
      ]
    },
    {
      "cell_type": "code",
      "source": [
        "!find /content -name \"unet_epoch_499.pth\"\n"
      ],
      "metadata": {
        "colab": {
          "base_uri": "https://localhost:8080/"
        },
        "id": "0Ya09V1Aepvh",
        "outputId": "9b47feb2-d82f-4c4c-ad8a-093a3d484f6d"
      },
      "execution_count": 14,
      "outputs": [
        {
          "output_type": "stream",
          "name": "stdout",
          "text": [
            "/content/DreamPose/unet_epoch_499.pth\n"
          ]
        }
      ]
    },
    {
      "cell_type": "code",
      "source": [
        "!mv /content/DreamPose/unet_epoch_499.pth /content/DreamPose/demo/custom-chkpts/\n"
      ],
      "metadata": {
        "id": "sgxe2AnPfG5V"
      },
      "execution_count": 15,
      "outputs": []
    },
    {
      "cell_type": "code",
      "source": [
        "!mv /content/DreamPose/pipelines/_pycache_/dual_encoder_pipeline.py /content/DreamPose/pipelines/\n"
      ],
      "metadata": {
        "id": "lBrdY6Fzi10D"
      },
      "execution_count": 19,
      "outputs": []
    },
    {
      "cell_type": "code",
      "source": [
        "!gdown --folder https://drive.google.com/drive/folders/14I58OiK87YoG0MSkcvWTM_ckUQ0XojM4?usp=drive_link"
      ],
      "metadata": {
        "colab": {
          "base_uri": "https://localhost:8080/"
        },
        "id": "Q4p7q6BdkQxN",
        "outputId": "da3db1f3-2fba-4ca4-a2c3-6d18f46920ee"
      },
      "execution_count": 22,
      "outputs": [
        {
          "output_type": "stream",
          "name": "stdout",
          "text": [
            "Retrieving folder contents\n",
            "Processing file 1WlZ3JtjkaENUDdEFbzxpuar-94OmJvX9 .DS_Store\n",
            "Retrieving folder 1l_q0Z59hp6I8Y0SqQ7HoL-f-piuv5a6t clip_processor\n",
            "Processing file 1n0bjeAhw_uQEyaV7p4LdSjeGwDvs1ffp merges.txt\n",
            "Processing file 1fuVDF5G04DLi6RQodHS-HgHVwRkQTMOB preprocessor_config.json\n",
            "Processing file 1rlaHvkQrpAoO1q8oHLiwwExEtBG7cVD4 special_tokens_map.json\n",
            "Processing file 1fTXiCnOrFZQIkOijes2TkXreOASTwYvJ tokenizer_config.json\n",
            "Processing file 1K7_48SPIumIAOhRJcyfjoBE0aIyvrKMX tokenizer.json\n",
            "Processing file 1X_XQp1640hx_xinzt5GTa4AHACEwdopP vocab.json\n",
            "Retrieving folder 1HNf_WyKHiRjYFAa-uuR3_5TOOkpASLUC feature_extractor\n",
            "Processing file 17cLo5gUlahJ5sE_RkLFnHvdqoBkogYhd preprocessor_config.json\n",
            "Retrieving folder 1OCcRTDQcd2wV99LJID0AKXfiW51o6r5G image_encoder\n",
            "Processing file 1kfhMdjiaI8t0C3_4bR1GHqLQw4yFGlKz config.json\n",
            "Processing file 17pqrkd4mmRKAMlV-FcB2T-NLbCFimdlL pytorch_model.bin\n",
            "Processing file 1DwGkdAjeZLTKUnqqlBOneGQqPAT92Avs model_index.json\n",
            "Retrieving folder 180bB6MLuCE31PQnQJLpmppAJgnIeGcr0 safety_checker\n",
            "Processing file 1XXSdhyriUZMLwXz-U6n7cUnQPf4-ghqQ config.json\n",
            "Processing file 1y_Y5MB4bRIlRzUbWAHajFBOV8mvHyBmV pytorch_model.bin\n",
            "Retrieving folder 1WXiZjLsXwK6EZvGFY2HMO7Lx0XXpGyxB scheduler\n",
            "Processing file 1M_FuD5pJjmRaHFH5qlKCb3lYaaIuvDal scheduler_config.json\n",
            "Retrieving folder 1FRNaO_upsAuu9zA7DtDEk-Jl3a20_jIX unet\n",
            "Processing file 1haJf56lXhCzIFefhMfksy53y2SKMwNNE config.json\n",
            "Processing file 16LD44ZLvCkEZAcGGRj75gdVODyNycp1A diffusion_pytorch_model.bin\n",
            "Retrieving folder 1HKduyaTtBt11c7F-sJPEjY6jyVgQzmVm vae\n",
            "Processing file 1GdPCw6aQKNGPgPZS2KzePH9MjjGmxIRq config.json\n",
            "Processing file 10mxbTphL1JpXKKN3LiyGujYdwMaBmQ9a diffusion_pytorch_model.bin\n",
            "Retrieving folder contents completed\n",
            "Building directory structure\n",
            "Building directory structure completed\n",
            "Downloading...\n",
            "From: https://drive.google.com/uc?id=1WlZ3JtjkaENUDdEFbzxpuar-94OmJvX9\n",
            "To: /content/DreamPose/checkpoint-499/.DS_Store\n",
            "100% 6.15k/6.15k [00:00<00:00, 17.1MB/s]\n",
            "Downloading...\n",
            "From: https://drive.google.com/uc?id=1n0bjeAhw_uQEyaV7p4LdSjeGwDvs1ffp\n",
            "To: /content/DreamPose/checkpoint-499/clip_processor/merges.txt\n",
            "100% 525k/525k [00:00<00:00, 5.86MB/s]\n",
            "Downloading...\n",
            "From: https://drive.google.com/uc?id=1fuVDF5G04DLi6RQodHS-HgHVwRkQTMOB\n",
            "To: /content/DreamPose/checkpoint-499/clip_processor/preprocessor_config.json\n",
            "100% 556/556 [00:00<00:00, 2.66MB/s]\n",
            "Downloading...\n",
            "From: https://drive.google.com/uc?id=1rlaHvkQrpAoO1q8oHLiwwExEtBG7cVD4\n",
            "To: /content/DreamPose/checkpoint-499/clip_processor/special_tokens_map.json\n",
            "100% 472/472 [00:00<00:00, 2.45MB/s]\n",
            "Downloading...\n",
            "From: https://drive.google.com/uc?id=1fTXiCnOrFZQIkOijes2TkXreOASTwYvJ\n",
            "To: /content/DreamPose/checkpoint-499/clip_processor/tokenizer_config.json\n",
            "100% 974/974 [00:00<00:00, 4.62MB/s]\n",
            "Downloading...\n",
            "From: https://drive.google.com/uc?id=1K7_48SPIumIAOhRJcyfjoBE0aIyvrKMX\n",
            "To: /content/DreamPose/checkpoint-499/clip_processor/tokenizer.json\n",
            "100% 2.22M/2.22M [00:00<00:00, 16.5MB/s]\n",
            "Downloading...\n",
            "From: https://drive.google.com/uc?id=1X_XQp1640hx_xinzt5GTa4AHACEwdopP\n",
            "To: /content/DreamPose/checkpoint-499/clip_processor/vocab.json\n",
            "100% 862k/862k [00:00<00:00, 9.29MB/s]\n",
            "Downloading...\n",
            "From: https://drive.google.com/uc?id=17cLo5gUlahJ5sE_RkLFnHvdqoBkogYhd\n",
            "To: /content/DreamPose/checkpoint-499/feature_extractor/preprocessor_config.json\n",
            "100% 518/518 [00:00<00:00, 2.87MB/s]\n",
            "Downloading...\n",
            "From: https://drive.google.com/uc?id=1kfhMdjiaI8t0C3_4bR1GHqLQw4yFGlKz\n",
            "To: /content/DreamPose/checkpoint-499/image_encoder/config.json\n",
            "100% 558/558 [00:00<00:00, 2.29MB/s]\n",
            "Downloading...\n",
            "From (original): https://drive.google.com/uc?id=17pqrkd4mmRKAMlV-FcB2T-NLbCFimdlL\n",
            "From (redirected): https://drive.google.com/uc?id=17pqrkd4mmRKAMlV-FcB2T-NLbCFimdlL&confirm=t&uuid=96eb77c5-8901-45f5-85b5-9624a6567f30\n",
            "To: /content/DreamPose/checkpoint-499/image_encoder/pytorch_model.bin\n",
            "100% 350M/350M [00:10<00:00, 34.4MB/s]\n",
            "Downloading...\n",
            "From: https://drive.google.com/uc?id=1DwGkdAjeZLTKUnqqlBOneGQqPAT92Avs\n",
            "To: /content/DreamPose/checkpoint-499/model_index.json\n",
            "100% 593/593 [00:00<00:00, 3.16MB/s]\n",
            "Downloading...\n",
            "From: https://drive.google.com/uc?id=1XXSdhyriUZMLwXz-U6n7cUnQPf4-ghqQ\n",
            "To: /content/DreamPose/checkpoint-499/safety_checker/config.json\n",
            "100% 5.01k/5.01k [00:00<00:00, 21.5MB/s]\n",
            "Downloading...\n",
            "From (original): https://drive.google.com/uc?id=1y_Y5MB4bRIlRzUbWAHajFBOV8mvHyBmV\n",
            "From (redirected): https://drive.google.com/uc?id=1y_Y5MB4bRIlRzUbWAHajFBOV8mvHyBmV&confirm=t&uuid=da4f6379-c917-42f8-a3b5-a63cb35f2166\n",
            "To: /content/DreamPose/checkpoint-499/safety_checker/pytorch_model.bin\n",
            "100% 1.22G/1.22G [00:23<00:00, 52.1MB/s]\n",
            "Downloading...\n",
            "From: https://drive.google.com/uc?id=1M_FuD5pJjmRaHFH5qlKCb3lYaaIuvDal\n",
            "To: /content/DreamPose/checkpoint-499/scheduler/scheduler_config.json\n",
            "100% 341/341 [00:00<00:00, 1.89MB/s]\n",
            "Downloading...\n",
            "From: https://drive.google.com/uc?id=1haJf56lXhCzIFefhMfksy53y2SKMwNNE\n",
            "To: /content/DreamPose/checkpoint-499/unet/config.json\n",
            "100% 953/953 [00:00<00:00, 4.40MB/s]\n",
            "Downloading...\n",
            "From (original): https://drive.google.com/uc?id=16LD44ZLvCkEZAcGGRj75gdVODyNycp1A\n",
            "From (redirected): https://drive.google.com/uc?id=16LD44ZLvCkEZAcGGRj75gdVODyNycp1A&confirm=t&uuid=1b89da57-9d4d-42d6-9282-b124c670db23\n",
            "To: /content/DreamPose/checkpoint-499/unet/diffusion_pytorch_model.bin\n",
            "100% 3.44G/3.44G [00:35<00:00, 95.5MB/s]\n",
            "Downloading...\n",
            "From: https://drive.google.com/uc?id=1GdPCw6aQKNGPgPZS2KzePH9MjjGmxIRq\n",
            "To: /content/DreamPose/checkpoint-499/vae/config.json\n",
            "100% 714/714 [00:00<00:00, 4.10MB/s]\n",
            "Downloading...\n",
            "From (original): https://drive.google.com/uc?id=10mxbTphL1JpXKKN3LiyGujYdwMaBmQ9a\n",
            "From (redirected): https://drive.google.com/uc?id=10mxbTphL1JpXKKN3LiyGujYdwMaBmQ9a&confirm=t&uuid=d92cd9df-637b-44af-97b4-e9ec604ac27f\n",
            "To: /content/DreamPose/checkpoint-499/vae/diffusion_pytorch_model.bin\n",
            "100% 335M/335M [00:08<00:00, 41.0MB/s]\n",
            "Download completed\n"
          ]
        }
      ]
    },
    {
      "cell_type": "code",
      "source": [
        "!python /content/DreamPose/test.py --epoch 499 --folder /content/DreamPose/demo/custom-chkpts --output_dir /content/DreamPose/output\n"
      ],
      "metadata": {
        "colab": {
          "base_uri": "https://localhost:8080/"
        },
        "id": "HrnJ9HkufxIq",
        "outputId": "05b791d2-173e-459c-e458-9590b6138fc1"
      },
      "execution_count": 36,
      "outputs": [
        {
          "output_type": "stream",
          "name": "stdout",
          "text": [
            "2024-08-28 20:38:12.094378: E external/local_xla/xla/stream_executor/cuda/cuda_fft.cc:485] Unable to register cuFFT factory: Attempting to register factory for plugin cuFFT when one has already been registered\n",
            "2024-08-28 20:38:12.114549: E external/local_xla/xla/stream_executor/cuda/cuda_dnn.cc:8454] Unable to register cuDNN factory: Attempting to register factory for plugin cuDNN when one has already been registered\n",
            "2024-08-28 20:38:12.120610: E external/local_xla/xla/stream_executor/cuda/cuda_blas.cc:1452] Unable to register cuBLAS factory: Attempting to register factory for plugin cuBLAS when one has already been registered\n",
            "2024-08-28 20:38:12.136255: I tensorflow/core/platform/cpu_feature_guard.cc:210] This TensorFlow binary is optimized to use available CPU instructions in performance-critical operations.\n",
            "To enable the following instructions: AVX2 AVX512F FMA, in other operations, rebuild TensorFlow with the appropriate compiler flags.\n",
            "2024-08-28 20:38:13.389276: W tensorflow/compiler/tf2tensorrt/utils/py_utils.cc:38] TF-TRT Warning: Could not find TensorRT\n",
            "Loading  /content/DreamPose/demo/custom-chkpts/unet_epoch_499.pth\n",
            "/content/DreamPose/test.py:52: FutureWarning: You are using `torch.load` with `weights_only=False` (the current default value), which uses the default pickle module implicitly. It is possible to construct malicious pickle data which will execute arbitrary code during unpickling (See https://github.com/pytorch/pytorch/blob/main/SECURITY.md#untrusted-models for more details). In a future release, the default value for `weights_only` will be flipped to `True`. This limits the functions that could be executed during unpickling. Arbitrary objects will no longer be allowed to be loaded via this mode unless they are explicitly allowlisted by the user via `torch.serialization.add_safe_globals`. We recommend you start setting `weights_only=True` for any use case where you don't have full control of the loaded file. Please open an issue on GitHub for any issues related to this experimental feature.\n",
            "  unet_state_dict = torch.load(unet_path)\n",
            "Loading custom model from:  /content/DreamPose/demo/custom-chkpts/checkpoint-499\n",
            "Loading pipeline components...:   0% 0/7 [00:00<?, ?it/s]An error occurred while trying to fetch /content/DreamPose/demo/custom-chkpts/checkpoint-499/vae: Error no file named diffusion_pytorch_model.safetensors found in directory /content/DreamPose/demo/custom-chkpts/checkpoint-499/vae.\n",
            "Defaulting to unsafe serialization. Pass `allow_pickle=False` to raise an error instead.\n",
            "Loading pipeline components...: 100% 7/7 [00:11<00:00,  1.58s/it]\n",
            "Stochastic Sampling:  False\n",
            "Loading  /content/DreamPose/demo/custom-chkpts/adapter_499.pth\n",
            "/content/DreamPose/test.py:69: FutureWarning: You are using `torch.load` with `weights_only=False` (the current default value), which uses the default pickle module implicitly. It is possible to construct malicious pickle data which will execute arbitrary code during unpickling (See https://github.com/pytorch/pytorch/blob/main/SECURITY.md#untrusted-models for more details). In a future release, the default value for `weights_only` will be flipped to `True`. This limits the functions that could be executed during unpickling. Arbitrary objects will no longer be allowed to be loaded via this mode unless they are explicitly allowlisted by the user via `torch.serialization.add_safe_globals`. We recommend you start setting `weights_only=True` for any use case where you don't have full control of the loaded file. Please open an issue on GitHub for any issues related to this experimental feature.\n",
            "  adapter_state_dict = torch.load(adapter_chkpt)\n",
            "Parameter containing:\n",
            "tensor([[1., 0., 0.,  ..., 0., 0., 0.],\n",
            "        [0., 1., 0.,  ..., 0., 0., 0.],\n",
            "        [0., 0., 1.,  ..., 0., 0., 0.],\n",
            "        ...,\n",
            "        [0., 0., 0.,  ..., 0., 0., 0.],\n",
            "        [0., 0., 0.,  ..., 0., 0., 0.],\n",
            "        [0., 0., 0.,  ..., 0., 0., 0.]], device='cuda:0', requires_grad=True)\n",
            "Parameter containing:\n",
            "tensor([[ 8.8475e-01, -2.7847e-02, -1.0585e-02,  ...,  8.8933e-04,\n",
            "          5.5777e-03, -2.4096e-04],\n",
            "        [-3.2929e-02,  9.3632e-01, -1.4573e-02,  ...,  2.2237e-03,\n",
            "          8.6307e-03, -2.9893e-03],\n",
            "        [-2.2541e-02, -3.2172e-02,  9.1579e-01,  ..., -2.4140e-03,\n",
            "          9.3014e-04,  2.0622e-03],\n",
            "        ...,\n",
            "        [-5.4793e-03, -2.7681e-02,  6.0469e-05,  ...,  2.8867e-03,\n",
            "         -4.3160e-02,  4.6471e-03],\n",
            "        [-7.0200e-03, -3.0748e-02, -1.0804e-02,  ...,  6.7698e-03,\n",
            "         -3.0116e-02, -6.1927e-04],\n",
            "        [-3.7703e-02, -4.2647e-02, -7.6375e-03,  ...,  1.7550e-03,\n",
            "          1.4128e-02, -3.0919e-03]], requires_grad=True)\n",
            "Traceback (most recent call last):\n",
            "  File \"/content/DreamPose/test.py\", line 188, in <module>\n",
            "    print(f\"Generated image: {image}\")\n",
            "NameError: name 'image' is not defined\n"
          ]
        }
      ]
    },
    {
      "cell_type": "code",
      "source": [
        "!ls /content/DreamPose/demo/sample/result\n"
      ],
      "metadata": {
        "id": "-KRhyQqXqsza"
      },
      "execution_count": 31,
      "outputs": []
    },
    {
      "cell_type": "code",
      "source": [
        "!ls /content/DreamPose/output/\n"
      ],
      "metadata": {
        "id": "YU3fcvr4o6-W"
      },
      "execution_count": 28,
      "outputs": []
    },
    {
      "cell_type": "code",
      "source": [
        "!ls /content/DreamPose/demo/custom-chkpts/\n"
      ],
      "metadata": {
        "colab": {
          "base_uri": "https://localhost:8080/"
        },
        "id": "AzYIszVLpbsH",
        "outputId": "acbf6b22-043d-4677-eb13-f1e3753b89a2"
      },
      "execution_count": 29,
      "outputs": [
        {
          "output_type": "stream",
          "name": "stdout",
          "text": [
            "adapter_499.pth  checkpoint-499  unet_epoch_499.pth  vae_1499.pth\n"
          ]
        }
      ]
    },
    {
      "cell_type": "code",
      "source": [
        "!ls ../UBC_Fashion_Dataset/dreampose/91iZ9x8NI0S.mp4/\n"
      ],
      "metadata": {
        "colab": {
          "base_uri": "https://localhost:8080/"
        },
        "id": "Ld0NblAvmYH7",
        "outputId": "ac24ae24-d34c-4881-e6c8-2ecec5749b32"
      },
      "execution_count": 26,
      "outputs": [
        {
          "output_type": "stream",
          "name": "stdout",
          "text": [
            "ls: cannot access '../UBC_Fashion_Dataset/dreampose/91iZ9x8NI0S.mp4/': No such file or directory\n"
          ]
        }
      ]
    },
    {
      "cell_type": "code",
      "source": [
        "/content/DreamPose/pipelines/_pycache_/dual_encoder_pipeline.py"
      ],
      "metadata": {
        "id": "YaUtUWcriaQG"
      },
      "execution_count": null,
      "outputs": []
    }
  ]
}